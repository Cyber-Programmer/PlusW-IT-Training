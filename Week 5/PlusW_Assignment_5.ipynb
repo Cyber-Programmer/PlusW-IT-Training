{
  "nbformat": 4,
  "nbformat_minor": 0,
  "metadata": {
    "colab": {
      "provenance": []
    },
    "kernelspec": {
      "name": "python3",
      "display_name": "Python 3"
    },
    "language_info": {
      "name": "python"
    }
  },
  "cells": [
    {
      "cell_type": "markdown",
      "source": [
        "# Task 1\n"
      ],
      "metadata": {
        "id": "EF4_ChvSd6G1"
      }
    },
    {
      "cell_type": "code",
      "execution_count": null,
      "metadata": {
        "id": "yHeSlR6nd1hj"
      },
      "outputs": [],
      "source": [
        "import os\n",
        "import glob\n",
        "import shutil\n",
        "import pandas as pd"
      ]
    },
    {
      "cell_type": "code",
      "source": [
        "import os\n",
        "import glob\n",
        "import shutil\n",
        "import pandas as pd\n",
        "\n",
        "csv_files = glob.glob('csv_files/*.csv')\n",
        "# Move each CSV file to \"backup_folder\"\n",
        "for file in csv_files:\n",
        "  shutil.move(file, 'backup_folder/')\n",
        "  print(f\"Moved File: {file}\")\n",
        "\n",
        "\n",
        "def export_data(df, file_name, format):\n",
        "  if format == 'csv':\n",
        "    df.to_csv(file_name, index=False)\n",
        "    print(f\"Data exported to {file_name} in CSV format.\")\n",
        "  elif format == 'json':\n",
        "    df.to_json(file_name, orient=\"records\")\n",
        "    print(f\"Data exported to {file_name} in JSON format.\")\n",
        "  else:\n",
        "    print(\"Unsupported format.\")\n",
        "\n",
        "#sample data\n",
        "data = {'Name': ['Alice', 'Alex', 'Bob'],\n",
        "        'Age': [25, 22, 35],\n",
        "        'City': ['New York', 'Los Angelos', 'Chicago']}\n",
        "df = pd.DataFrame(data)\n",
        "\n",
        "# Export DataFrame to CSV and JSON\n",
        "export_data(df, \"output.csv\", \"csv\")\n",
        "export_data(df, \"output.json\", \"json\")"
      ],
      "metadata": {
        "colab": {
          "base_uri": "https://localhost:8080/"
        },
        "id": "6c5oC1Epecvs",
        "outputId": "4fe99aa2-6566-4810-c488-87d7c9b9d0ff"
      },
      "execution_count": null,
      "outputs": [
        {
          "output_type": "stream",
          "name": "stdout",
          "text": [
            "Moved File: csv_files/iris.csv\n",
            "Moved File: csv_files/tips.csv\n",
            "Moved File: csv_files/banklist.csv\n",
            "Data exported to output.csv in CSV format.\n",
            "Data exported to output.json in JSON format.\n"
          ]
        }
      ]
    },
    {
      "cell_type": "markdown",
      "source": [
        "# Task 2\n"
      ],
      "metadata": {
        "id": "aMGmD6FROzYX"
      }
    },
    {
      "cell_type": "code",
      "source": [
        "import yfinance as yf\n",
        "import sqlite3\n",
        "import pandas as pd\n",
        "import matplotlib.pyplot as plt\n",
        "\n",
        "db_name = \"stocks.db\"\n",
        "conn = sqlite3.connect(db_name)\n",
        "cursor = conn.cursor()\n",
        "\n",
        "# Creating a table to store stock data\n",
        "cursor.execute('''\n",
        "CREATE TABLE IF NOT EXISTS stock_data (\n",
        "    id INTEGER PRIMARY KEY AUTOINCREMENT,\n",
        "    symbol TEXT,\n",
        "    timestamp DATETIME DEFAULT CURRENT_TIMESTAMP,\n",
        "    open REAL,\n",
        "    high REAL,\n",
        "    low REAL,\n",
        "    close REAL,\n",
        "    volume INTEGER\n",
        ")\n",
        "''')\n",
        "\n",
        "conn.commit()\n",
        "print(\"Database and table created.\")"
      ],
      "metadata": {
        "colab": {
          "base_uri": "https://localhost:8080/"
        },
        "id": "TymdFlo3PPnf",
        "outputId": "be3b49de-6a30-4ded-bca1-6c6fc4d855a6"
      },
      "execution_count": null,
      "outputs": [
        {
          "output_type": "stream",
          "name": "stdout",
          "text": [
            "Database and table created.\n"
          ]
        }
      ]
    },
    {
      "cell_type": "code",
      "source": [
        "import time\n",
        "\n",
        "def fetch_stock_data(symbol):\n",
        "    try:\n",
        "        stock = yf.Ticker(symbol)\n",
        "        data = stock.history(period=\"1d\", interval=\"1h\")\n",
        "\n",
        "        if data.empty:\n",
        "            print(f\"No data found for {symbol}. Skipping...\")\n",
        "            return None\n",
        "\n",
        "        latest = data.iloc[-1]  # Get the most recent price data\n",
        "        return {\n",
        "            \"symbol\": symbol,\n",
        "            \"open\": latest[\"Open\"],\n",
        "            \"high\": latest[\"High\"],\n",
        "            \"low\": latest[\"Low\"],\n",
        "            \"close\": latest[\"Close\"],\n",
        "            \"volume\": latest[\"Volume\"]\n",
        "        }\n",
        "    except Exception as e:\n",
        "        print(f\"Error fetching data for {symbol}: {e}\")\n",
        "        return None\n",
        "\n",
        "\n",
        "def store_data(symbol):\n",
        "    stock_data = fetch_stock_data(symbol)\n",
        "    if stock_data:\n",
        "        cursor.execute('''INSERT INTO stock_data (symbol, open, high, low, close, volume)\n",
        "                          VALUES (?, ?, ?, ?, ?, ?)''',\n",
        "                       (stock_data[\"symbol\"], stock_data[\"open\"], stock_data[\"high\"],\n",
        "                        stock_data[\"low\"], stock_data[\"close\"], stock_data[\"volume\"]))\n",
        "        conn.commit()\n",
        "        print(f\"Stored data for {symbol}\")\n",
        "\n",
        "\n",
        "def analyze_stock(symbol):\n",
        "    df = pd.read_sql_query(\"SELECT * FROM stock_data WHERE symbol=? ORDER BY timestamp DESC LIMIT 100\", conn, params=(symbol,))\n",
        "    print(df)\n",
        "\n",
        "\n",
        "symbol = \"MSFT\"\n",
        "\n",
        "for _ in range(5):\n",
        "    store_data(symbol)\n",
        "    time.sleep(60)\n",
        "\n",
        "analyze_stock(symbol)\n",
        "\n",
        "# Close database connection\n",
        "conn.close()"
      ],
      "metadata": {
        "colab": {
          "base_uri": "https://localhost:8080/"
        },
        "id": "rGQWxrkbQIzp",
        "outputId": "60557c7c-e0b1-4404-8f1b-1167edc8240a"
      },
      "execution_count": null,
      "outputs": [
        {
          "output_type": "stream",
          "name": "stdout",
          "text": [
            "Stored data for MSFT\n",
            "Stored data for MSFT\n",
            "Stored data for MSFT\n",
            "Stored data for MSFT\n",
            "Stored data for MSFT\n",
            "   id symbol            timestamp        open        high         low  \\\n",
            "0  15   MSFT  2025-03-04 18:09:30  386.024994  386.024994  384.220001   \n",
            "1  14   MSFT  2025-03-04 18:08:30  386.024994  386.024994  384.220001   \n",
            "2  13   MSFT  2025-03-04 18:07:30  386.024994  386.024994  384.220001   \n",
            "3  12   MSFT  2025-03-04 18:06:30  386.024994  386.024994  384.220001   \n",
            "4  11   MSFT  2025-03-04 18:05:30  386.024994  386.024994  384.220001   \n",
            "5  10   MSFT  2025-03-04 17:59:53  384.641205  384.641205  384.641205   \n",
            "6   9   MSFT  2025-03-04 17:58:53  384.549988  384.549988  384.549988   \n",
            "7   8   MSFT  2025-03-04 17:57:52  384.579987  384.579987  384.579987   \n",
            "8   7   MSFT  2025-03-04 17:56:52  384.670013  384.670013  384.670013   \n",
            "9   6   MSFT  2025-03-04 17:55:52  384.829987  384.829987  384.829987   \n",
            "\n",
            "        close   volume  \n",
            "0  386.019989  1161266  \n",
            "1  385.704987  1127359  \n",
            "2  385.170013  1108764  \n",
            "3  385.100006  1093277  \n",
            "4  385.299988  1061913  \n",
            "5  384.641205        0  \n",
            "6  384.549988        0  \n",
            "7  384.579987        0  \n",
            "8  384.670013        0  \n",
            "9  384.829987        0  \n"
          ]
        }
      ]
    },
    {
      "cell_type": "markdown",
      "source": [
        "# Task 3"
      ],
      "metadata": {
        "id": "PLJCztKIFWSI"
      }
    },
    {
      "cell_type": "code",
      "source": [
        "import requests\n",
        "from bs4 import BeautifulSoup\n",
        "import pandas as pd\n",
        "\n",
        "# Define the URL (replace with a valid HTML website)\n",
        "URL = \"http://books.toscrape.com/\"\n",
        "HEADERS = {\"User-Agent\": \"Mozilla/5.0\"}\n",
        "\n",
        "def get_books(url):\n",
        "    response = requests.get(url, headers=HEADERS)\n",
        "    if response.status_code != 200:\n",
        "        print(f\"Failed to retrieve data: {response.status_code}\")\n",
        "        return []\n",
        "\n",
        "    soup = BeautifulSoup(response.text, \"html.parser\")\n",
        "    books = soup.find_all(\"article\", class_=\"product_pod\")\n",
        "    book_list = []\n",
        "\n",
        "    for book in books:\n",
        "        title = book.h3.a[\"title\"]\n",
        "        price = book.find(\"p\", class_=\"price_color\").text\n",
        "        stock = book.find(\"p\", class_=\"instock availability\").text.strip()\n",
        "        book_list.append({\"Title\": title, \"Price\": price, \"Availability\": stock})\n",
        "\n",
        "    return book_list\n",
        "\n",
        "# Fetch book data\n",
        "books_data = get_books(URL)\n",
        "\n",
        "# Save data to CSV\n",
        "df = pd.DataFrame(books_data)\n",
        "df.to_csv(\"books.csv\", index=False)\n",
        "\n",
        "# Print output\n",
        "print(df)\n",
        "print(\"Data saved to books.csv\")\n"
      ],
      "metadata": {
        "colab": {
          "base_uri": "https://localhost:8080/"
        },
        "id": "lPnQkHsoFZN3",
        "outputId": "c517760b-7fe7-49ce-c5ef-54490de26861"
      },
      "execution_count": 3,
      "outputs": [
        {
          "output_type": "stream",
          "name": "stdout",
          "text": [
            "                                                Title    Price Availability\n",
            "0                                A Light in the Attic  Â£51.77     In stock\n",
            "1                                  Tipping the Velvet  Â£53.74     In stock\n",
            "2                                          Soumission  Â£50.10     In stock\n",
            "3                                       Sharp Objects  Â£47.82     In stock\n",
            "4               Sapiens: A Brief History of Humankind  Â£54.23     In stock\n",
            "5                                     The Requiem Red  Â£22.65     In stock\n",
            "6   The Dirty Little Secrets of Getting Your Dream...  Â£33.34     In stock\n",
            "7   The Coming Woman: A Novel Based on the Life of...  Â£17.93     In stock\n",
            "8   The Boys in the Boat: Nine Americans and Their...  Â£22.60     In stock\n",
            "9                                     The Black Maria  Â£52.15     In stock\n",
            "10     Starving Hearts (Triangular Trade Trilogy, #1)  Â£13.99     In stock\n",
            "11                              Shakespeare's Sonnets  Â£20.66     In stock\n",
            "12                                        Set Me Free  Â£17.46     In stock\n",
            "13  Scott Pilgrim's Precious Little Life (Scott Pi...  Â£52.29     In stock\n",
            "14                          Rip it Up and Start Again  Â£35.02     In stock\n",
            "15  Our Band Could Be Your Life: Scenes from the A...  Â£57.25     In stock\n",
            "16                                               Olio  Â£23.88     In stock\n",
            "17  Mesaerion: The Best Science Fiction Stories 18...  Â£37.59     In stock\n",
            "18                       Libertarianism for Beginners  Â£51.33     In stock\n",
            "19                            It's Only the Himalayas  Â£45.17     In stock\n",
            "Data saved to books.csv\n"
          ]
        }
      ]
    }
  ]
}