{
  "nbformat": 4,
  "nbformat_minor": 0,
  "metadata": {
    "colab": {
      "provenance": []
    },
    "kernelspec": {
      "name": "python3",
      "display_name": "Python 3"
    },
    "language_info": {
      "name": "python"
    }
  },
  "cells": [
    {
      "cell_type": "markdown",
      "source": [
        "# Task 1\n"
      ],
      "metadata": {
        "id": "DJZgXbVVUcCP"
      }
    },
    {
      "cell_type": "code",
      "source": [
        "first_name = input(\"Enter your first name: \")\n",
        "last_name = input(\"Enter your last name: \")"
      ],
      "metadata": {
        "colab": {
          "base_uri": "https://localhost:8080/"
        },
        "id": "aU8ZudXxUex9",
        "outputId": "8c633d54-228e-49a3-c633-95b045e520cc"
      },
      "execution_count": 1,
      "outputs": [
        {
          "name": "stdout",
          "output_type": "stream",
          "text": [
            "Enter your first name: Bahauddin\n",
            "Enter your last name: Hassan\n"
          ]
        }
      ]
    },
    {
      "cell_type": "code",
      "source": [
        "first_name = first_name.upper()\n",
        "last_name = last_name.lower()"
      ],
      "metadata": {
        "id": "19SLghqZUoq7"
      },
      "execution_count": 2,
      "outputs": []
    },
    {
      "cell_type": "code",
      "source": [
        "total_letters = len(first_name) + len(last_name)"
      ],
      "metadata": {
        "id": "APNIoIyPUsbh"
      },
      "execution_count": 3,
      "outputs": []
    },
    {
      "cell_type": "code",
      "source": [
        "print(f\"First name (upper): {first_name}\")\n",
        "print(f\"Last name (lower): {last_name}\")\n",
        "print(\"Sum of letters in your first and last name:\", total_letters)"
      ],
      "metadata": {
        "colab": {
          "base_uri": "https://localhost:8080/"
        },
        "id": "JAVxRlLeUuwh",
        "outputId": "8bc9c6d8-e041-4ecc-d05f-5bde8b270b4f"
      },
      "execution_count": 4,
      "outputs": [
        {
          "output_type": "stream",
          "name": "stdout",
          "text": [
            "First name (upper): BAHAUDDIN\n",
            "Last name (lower): hassan\n",
            "Sum of letters in your first and last name: 15\n"
          ]
        }
      ]
    },
    {
      "cell_type": "markdown",
      "source": [
        "# Task 2"
      ],
      "metadata": {
        "id": "6IJgua2GUySp"
      }
    },
    {
      "cell_type": "code",
      "source": [
        "print(\"Calculate the area of following shapes:\")\n",
        "print(\"1. Circle\")\n",
        "print(\"2. Rectangle\")\n",
        "print(\"3. Square\")\n",
        "print(\"4. Triangle\")"
      ],
      "metadata": {
        "colab": {
          "base_uri": "https://localhost:8080/"
        },
        "id": "4RGuoerOUza9",
        "outputId": "54fbda43-b31e-4df0-a99f-76e7229d13f9"
      },
      "execution_count": 6,
      "outputs": [
        {
          "output_type": "stream",
          "name": "stdout",
          "text": [
            "Calculate the area of following shapes:\n",
            "1. Circle\n",
            "2. Rectangle\n",
            "3. Square\n",
            "4. Triangle\n"
          ]
        }
      ]
    },
    {
      "cell_type": "code",
      "source": [
        "print(\"Finding area of circle: \\n\")\n",
        "radius = float(input(\"Enter the radius of the circle: \"))\n",
        "circ_area= 3.14 * radius**2"
      ],
      "metadata": {
        "colab": {
          "base_uri": "https://localhost:8080/"
        },
        "id": "D8gj-vh4VTru",
        "outputId": "7a654c85-89cf-4b66-eb0b-56c4dd568d83"
      },
      "execution_count": 8,
      "outputs": [
        {
          "name": "stdout",
          "output_type": "stream",
          "text": [
            "Finding area of circle: \n",
            "\n",
            "Enter the radius of the circle: 5\n"
          ]
        }
      ]
    },
    {
      "cell_type": "code",
      "source": [
        "print(\"Finding area of Rectangle: \\n\")\n",
        "length = float(input(\"Enter length of the rectangle: \"))\n",
        "width = float(input(\"Enter width of the rectangle: \"))\n",
        "rect_area = length * width"
      ],
      "metadata": {
        "colab": {
          "base_uri": "https://localhost:8080/"
        },
        "id": "HMbrtzHCV0pC",
        "outputId": "39bbf54b-9a02-4829-d5f5-73ba38edd3e4"
      },
      "execution_count": 9,
      "outputs": [
        {
          "name": "stdout",
          "output_type": "stream",
          "text": [
            "Finding area of Rectangle: \n",
            "\n",
            "Enter length of the rectangle: 4\n",
            "Enter width of the rectangle: 7\n"
          ]
        }
      ]
    },
    {
      "cell_type": "code",
      "source": [
        "print(\"Finding area of Square: \\n\")\n",
        "side = float(input(\"Enter Side of the square: \"))\n",
        "sq_area = side**2"
      ],
      "metadata": {
        "colab": {
          "base_uri": "https://localhost:8080/"
        },
        "id": "m1YAfDBcWZpc",
        "outputId": "7790f0e8-d1f6-42d5-ef5d-29e7adee5c5d"
      },
      "execution_count": 10,
      "outputs": [
        {
          "name": "stdout",
          "output_type": "stream",
          "text": [
            "Finding area of Square: \n",
            "\n",
            "Enter Side of the square: 10\n"
          ]
        }
      ]
    },
    {
      "cell_type": "code",
      "source": [
        "print(\"Finding area of Triangle: \\n\")\n",
        "base = float(input(\"Enter base of the triangle: \"))\n",
        "height = float(input(\"Enter height of the triangle: \"))\n",
        "tri_area = 0.5 * base * height"
      ],
      "metadata": {
        "colab": {
          "base_uri": "https://localhost:8080/"
        },
        "id": "9tXDDdxVWzGM",
        "outputId": "9b24242d-5cfa-4051-f786-ea9a55aac770"
      },
      "execution_count": 11,
      "outputs": [
        {
          "name": "stdout",
          "output_type": "stream",
          "text": [
            "Finding area of Triangle: \n",
            "\n",
            "Enter base of the triangle: 7\n",
            "Enter height of the triangle: 6\n"
          ]
        }
      ]
    },
    {
      "cell_type": "code",
      "source": [
        "print(\"All the areas are: \\n\")\n",
        "print(\"The area of the circle is:\", circ_area, \"\\n\")\n",
        "print(\"The area of the rectangle is:\", rect_area,\"\\n\")\n",
        "print(\"The area of the square is:\", sq_area, \"\\n\")\n",
        "print(\"The area of the triangle is:\", tri_area, \"\\n\")"
      ],
      "metadata": {
        "colab": {
          "base_uri": "https://localhost:8080/"
        },
        "id": "RjlGh1ZIXJHU",
        "outputId": "9bf12477-936c-47c8-e402-8bcd7783e2a9"
      },
      "execution_count": 13,
      "outputs": [
        {
          "output_type": "stream",
          "name": "stdout",
          "text": [
            "All the areas are: \n",
            "\n",
            "The area of the circle is: 78.5 \n",
            "\n",
            "The area of the rectangle is: 28.0 \n",
            "\n",
            "The area of the square is: 100.0 \n",
            "\n",
            "The area of the triangle is: 21.0 \n",
            "\n"
          ]
        }
      ]
    },
    {
      "cell_type": "markdown",
      "source": [
        "# Task 3"
      ],
      "metadata": {
        "id": "XSe4w7rcXZdv"
      }
    },
    {
      "cell_type": "code",
      "source": [
        "import random"
      ],
      "metadata": {
        "id": "SanQZhIDXKx6"
      },
      "execution_count": 14,
      "outputs": []
    },
    {
      "cell_type": "code",
      "source": [
        "colors = [\"red\", \"blue\", \"green\", \"yellow\", \"orange\", \"purple\"]"
      ],
      "metadata": {
        "id": "eIlcCVojXezX"
      },
      "execution_count": 15,
      "outputs": []
    },
    {
      "cell_type": "code",
      "source": [
        "index = random.randint(0, len(colors) - 1)"
      ],
      "metadata": {
        "id": "hBq-KOXYXia6"
      },
      "execution_count": 16,
      "outputs": []
    },
    {
      "cell_type": "code",
      "source": [
        "selected_color = colors[index]"
      ],
      "metadata": {
        "id": "jeKdACI4Xkgx"
      },
      "execution_count": 17,
      "outputs": []
    },
    {
      "cell_type": "code",
      "source": [
        "password = selected_color[::-1]"
      ],
      "metadata": {
        "id": "-Z4N6NQpXpZu"
      },
      "execution_count": 18,
      "outputs": []
    },
    {
      "cell_type": "code",
      "source": [
        "print(\"Selected Color:\", selected_color)\n",
        "print(\"Generated Password:\", password)"
      ],
      "metadata": {
        "id": "PPkRxb8yXsnZ",
        "outputId": "32a12389-b363-45f2-b95e-86772fb1bcd5",
        "colab": {
          "base_uri": "https://localhost:8080/"
        }
      },
      "execution_count": 19,
      "outputs": [
        {
          "output_type": "stream",
          "name": "stdout",
          "text": [
            "Selected Color: yellow\n",
            "Generated Password: wolley\n"
          ]
        }
      ]
    }
  ]
}